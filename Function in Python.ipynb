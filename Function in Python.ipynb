{
 "cells": [
  {
   "cell_type": "code",
   "execution_count": 1,
   "id": "b13192c8-4d11-429f-8911-0918c4511223",
   "metadata": {},
   "outputs": [],
   "source": [
    "# Practice Functions in Python"
   ]
  },
  {
   "cell_type": "code",
   "execution_count": 3,
   "id": "45d37982-4dab-45f8-b919-be0a647f6f67",
   "metadata": {},
   "outputs": [],
   "source": [
    "# Q1 Simple Function"
   ]
  },
  {
   "cell_type": "code",
   "execution_count": 5,
   "id": "0f0fe0eb-66aa-487d-b467-d858b2692d29",
   "metadata": {},
   "outputs": [
    {
     "name": "stdout",
     "output_type": "stream",
     "text": [
      "Hello zulaikha, the current time is 2024-11-28 01:09:39.872693.\n"
     ]
    }
   ],
   "source": [
    "import datetime\n",
    "def greet_with_time(name):\n",
    "    current_time=datetime.datetime.now()\n",
    "    print(f\"Hello {name}, the current time is {current_time}.\")\n",
    "greet_with_time(\"zulaikha\")"
   ]
  },
  {
   "cell_type": "code",
   "execution_count": 7,
   "id": "3cae7607-25f0-470d-a2b4-a648b769d73d",
   "metadata": {},
   "outputs": [],
   "source": [
    "# Q2 Function with Multiple Parameters"
   ]
  },
  {
   "cell_type": "code",
   "execution_count": 9,
   "id": "079ba0db-318e-453b-95af-f6b4c69868fe",
   "metadata": {},
   "outputs": [
    {
     "name": "stdout",
     "output_type": "stream",
     "text": [
      "35.666666666666664\n"
     ]
    }
   ],
   "source": [
    "def calculate_average(num1,num2,num3):\n",
    "    average=(num1+num2+num3)/3\n",
    "    return average\n",
    "result=calculate_average(34,35,38)\n",
    "print(result)"
   ]
  },
  {
   "cell_type": "code",
   "execution_count": 11,
   "id": "84a409c5-8cec-410a-9874-cde87e673935",
   "metadata": {},
   "outputs": [],
   "source": [
    "# Q3 Default Argument"
   ]
  },
  {
   "cell_type": "code",
   "execution_count": 13,
   "id": "36df432d-c3e7-4b2e-bafb-59c16a29cfe2",
   "metadata": {},
   "outputs": [
    {
     "name": "stdout",
     "output_type": "stream",
     "text": [
      "405.0\n"
     ]
    }
   ],
   "source": [
    "def calculate_discount(price, percentage):\n",
    "    discount=price-(price*percentage)\n",
    "    return discount\n",
    "price=calculate_discount(450,10/100)\n",
    "print(price)"
   ]
  },
  {
   "cell_type": "code",
   "execution_count": 15,
   "id": "e7c94fd6-c892-49e1-b69d-c3ebd5c06900",
   "metadata": {},
   "outputs": [],
   "source": [
    "# Q4 Keyword Arguments"
   ]
  },
  {
   "cell_type": "code",
   "execution_count": 17,
   "id": "d668f6ef-cb51-40fe-b635-6ffa5a4f68f9",
   "metadata": {},
   "outputs": [
    {
     "name": "stdout",
     "output_type": "stream",
     "text": [
      "Name: zulaikha\n",
      "Age: 18\n",
      "City: Lahore\n"
     ]
    }
   ],
   "source": [
    "def print_info(name,age,city):\n",
    "    print(f\"Name: {name}\")\n",
    "    print(f\"Age: {age}\")\n",
    "    print(f\"City: {city}\")\n",
    "print_info(name=\"zulaikha\",age=18,city=\"Lahore\")"
   ]
  },
  {
   "cell_type": "code",
   "execution_count": 19,
   "id": "85e6aff7-c5c3-4f1a-bc84-310d0949134a",
   "metadata": {},
   "outputs": [],
   "source": [
    "# Q5 Variable-Length Arguments"
   ]
  },
  {
   "cell_type": "code",
   "execution_count": 21,
   "id": "f3d0d31d-5ad8-46a0-a02f-8c3258d313ac",
   "metadata": {},
   "outputs": [
    {
     "name": "stdout",
     "output_type": "stream",
     "text": [
      "89\n"
     ]
    }
   ],
   "source": [
    "def find_max(*num):\n",
    "    value=max(num)\n",
    "    return value\n",
    "maximun_value=find_max(34,89,76,56)\n",
    "print(maximun_value)"
   ]
  },
  {
   "cell_type": "code",
   "execution_count": 23,
   "id": "a63d2165-a3fe-468e-9182-ef99b5d2046e",
   "metadata": {},
   "outputs": [],
   "source": [
    "# Q6 Recursive Function"
   ]
  },
  {
   "cell_type": "code",
   "execution_count": 25,
   "id": "b7869161-26b7-4571-b469-52c2b2509f95",
   "metadata": {},
   "outputs": [
    {
     "name": "stdout",
     "output_type": "stream",
     "text": [
      "1307674368000\n"
     ]
    }
   ],
   "source": [
    "def factorial(n):\n",
    "    if n<0:\n",
    "        print(\"Factorial not defined for negative number.\")\n",
    "    elif n==0 or n==1:\n",
    "        return 1\n",
    "    else:\n",
    "        return n*factorial(n-1)\n",
    "result=factorial(15)\n",
    "print(result)"
   ]
  },
  {
   "cell_type": "code",
   "execution_count": 27,
   "id": "d1af117a-c1f0-445f-8f36-e3d79764928c",
   "metadata": {},
   "outputs": [],
   "source": [
    "# Q7 Function as an Argument"
   ]
  },
  {
   "cell_type": "code",
   "execution_count": 29,
   "id": "6ff6ac42-6875-4e84-8897-4d69467b0ecf",
   "metadata": {},
   "outputs": [
    {
     "name": "stdout",
     "output_type": "stream",
     "text": [
      "[8, 27, 125, 343, 1331]\n"
     ]
    }
   ],
   "source": [
    "def apply_function(func, numbers):\n",
    "    list=[]\n",
    "    for num in numbers:\n",
    "        data=func(num)\n",
    "        list.append(data)\n",
    "    return list\n",
    "def cube(i):\n",
    "        return i**3\n",
    "numbers=[2,3,5,7,11]\n",
    "numbers_cubes=apply_function(cube, numbers)\n",
    "print(numbers_cubes)"
   ]
  },
  {
   "cell_type": "code",
   "execution_count": null,
   "id": "3010e430-04c7-4202-ac40-67ba730e3df0",
   "metadata": {},
   "outputs": [],
   "source": [
    "#Q8 Lambda Function"
   ]
  },
  {
   "cell_type": "code",
   "execution_count": 33,
   "id": "c145a4a6-65db-41fa-adbb-fbdf2f5a3663",
   "metadata": {},
   "outputs": [
    {
     "name": "stdout",
     "output_type": "stream",
     "text": [
      "25\n"
     ]
    }
   ],
   "source": [
    "square = lambda x: x ** 2\n",
    "print(square(5)) "
   ]
  },
  {
   "cell_type": "code",
   "execution_count": 35,
   "id": "154e4648-65c3-4b43-87e2-4b3d56798f3f",
   "metadata": {},
   "outputs": [],
   "source": [
    "#Q9 Higher_order Function"
   ]
  },
  {
   "cell_type": "code",
   "execution_count": 37,
   "id": "cfff6ede-789e-4ea2-82d4-edd084dc6f19",
   "metadata": {},
   "outputs": [
    {
     "name": "stdout",
     "output_type": "stream",
     "text": [
      "[1, 4, 9, 16, 25]\n"
     ]
    }
   ],
   "source": [
    "def apply_operation(func, numbers):\n",
    "    return [func(number) for number in numbers]\n",
    "numbers = [1, 2, 3, 4, 5]\n",
    "square = lambda x: x ** 2\n",
    "result = apply_operation(square, numbers)\n",
    "print(result)"
   ]
  },
  {
   "cell_type": "code",
   "execution_count": 39,
   "id": "d19e74b5-e661-41a0-95d6-ba08aa99a114",
   "metadata": {},
   "outputs": [],
   "source": [
    "#Q10 Function Decorators"
   ]
  },
  {
   "cell_type": "code",
   "execution_count": 45,
   "id": "0683f175-00c2-4458-a7ab-df415fc6b1e1",
   "metadata": {},
   "outputs": [
    {
     "name": "stdout",
     "output_type": "stream",
     "text": [
      "Execution time of example_function: 0.121284 seconds\n",
      "Result: 499999500000\n"
     ]
    }
   ],
   "source": [
    "import time\n",
    "def measure_execution_time(func):\n",
    "    def wrapper(*args, **kwargs):\n",
    "        start_time = time.time()  \n",
    "        result = func(*args, **kwargs)  \n",
    "        end_time = time.time()  \n",
    "        execution_time = end_time - start_time  \n",
    "        print(f\"Execution time of {func.__name__}: {execution_time:.6f} seconds\")\n",
    "        return result\n",
    "    return wrapper\n",
    "@measure_execution_time\n",
    "def example_function(n):\n",
    "    total = 0\n",
    "    for i in range(n):\n",
    "        total += i\n",
    "    return total\n",
    "result = example_function(1000000)\n",
    "print(\"Result:\", result)"
   ]
  },
  {
   "cell_type": "code",
   "execution_count": null,
   "id": "798d84e7-2c74-457e-ae57-0b39d3b0589c",
   "metadata": {},
   "outputs": [],
   "source": []
  }
 ],
 "metadata": {
  "kernelspec": {
   "display_name": "Python 3 (ipykernel)",
   "language": "python",
   "name": "python3"
  },
  "language_info": {
   "codemirror_mode": {
    "name": "ipython",
    "version": 3
   },
   "file_extension": ".py",
   "mimetype": "text/x-python",
   "name": "python",
   "nbconvert_exporter": "python",
   "pygments_lexer": "ipython3",
   "version": "3.12.4"
  }
 },
 "nbformat": 4,
 "nbformat_minor": 5
}
